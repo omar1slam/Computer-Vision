{
  "nbformat": 4,
  "nbformat_minor": 0,
  "metadata": {
    "colab": {
      "name": "Project2_Vision.ipynb",
      "provenance": [],
      "collapsed_sections": [],
      "include_colab_link": true
    },
    "kernelspec": {
      "name": "python3",
      "display_name": "Python 3"
    }
  },
  "cells": [
    {
      "cell_type": "markdown",
      "metadata": {
        "id": "view-in-github",
        "colab_type": "text"
      },
      "source": [
        "<a href=\"https://colab.research.google.com/github/omar1slam/Computer-Vision/blob/master/Image_Segmentation.ipynb\" target=\"_parent\"><img src=\"https://colab.research.google.com/assets/colab-badge.svg\" alt=\"Open In Colab\"/></a>"
      ]
    },
    {
      "cell_type": "code",
      "metadata": {
        "id": "_RCqlEUzbGHH",
        "outputId": "bad07669-1922-4ded-e706-edb11ed0faae",
        "colab": {
          "base_uri": "https://localhost:8080/",
          "height": 121
        }
      },
      "source": [
        "import numpy as np\n",
        "import imageio as im\n",
        "from PIL import Image\n",
        "from imageio import imread\n",
        "from google.colab import drive\n",
        "import matplotlib.pyplot as plt\n",
        "from sklearn import svm\n",
        "import cv2\n",
        "drive.mount(\"/content/drive\", force_remount=True)"
      ],
      "execution_count": null,
      "outputs": [
        {
          "output_type": "stream",
          "text": [
            "Go to this URL in a browser: https://accounts.google.com/o/oauth2/auth?client_id=947318989803-6bn6qk8qdgf4n4g3pfee6491hc0brc4i.apps.googleusercontent.com&redirect_uri=urn%3aietf%3awg%3aoauth%3a2.0%3aoob&response_type=code&scope=email%20https%3a%2f%2fwww.googleapis.com%2fauth%2fdocs.test%20https%3a%2f%2fwww.googleapis.com%2fauth%2fdrive%20https%3a%2f%2fwww.googleapis.com%2fauth%2fdrive.photos.readonly%20https%3a%2f%2fwww.googleapis.com%2fauth%2fpeopleapi.readonly\n",
            "\n",
            "Enter your authorization code:\n",
            "··········\n",
            "Mounted at /content/drive\n"
          ],
          "name": "stdout"
        }
      ]
    },
    {
      "cell_type": "code",
      "metadata": {
        "id": "nOUDWgzNPGA9"
      },
      "source": [
        "img = im.imread(r'/content/drive/My Drive/TestingImages/108073.jpg')\n",
        "img_cluster = Image.open('/content/drive/My Drive/TestingImages/187039.jpg')\n",
        "img = np.ndarray.astype(img, np.float32) / 255.0\n",
        "height, width, channels = img.shape"
      ],
      "execution_count": null,
      "outputs": []
    },
    {
      "cell_type": "markdown",
      "metadata": {
        "id": "71JEIZ7iKKFM"
      },
      "source": [
        "Contrast stretching:\n"
      ]
    },
    {
      "cell_type": "code",
      "metadata": {
        "id": "0Erw1QuujoBP"
      },
      "source": [
        "def normalizeRed(intensity):\n",
        "    iI  = intensity\n",
        "    minI  = 86\n",
        "    maxI = 230\n",
        "    minO= 0\n",
        "    maxO= 255\n",
        "    iO  = (iI-minI)*(((maxO-minO)/(maxI-minI))+minO)\n",
        "    return iO\n",
        "    \n",
        "def normalizeGreen(intensity):\n",
        "    iI  = intensity\n",
        "    minI = 90\n",
        "    maxI = 225\n",
        "    minO = 0\n",
        "    maxO = 255\n",
        "    iO = (iI-minI)*(((maxO-minO)/(maxI-minI))+minO)\n",
        "\n",
        "    return iO\n",
        "\n",
        "def normalizeBlue(intensity):\n",
        "    iI = intensity\n",
        "    minI= 100\n",
        "    maxI= 210\n",
        "    minO= 0\n",
        "    maxO= 255\n",
        "    iO  = (iI-minI)*(((maxO-minO)/(maxI-minI))+minO)\n",
        "    return iO\n",
        "\n",
        "def normalizeImage(image):\n",
        "  Bands  = image.split()\n",
        "  normRed  = Bands[0].point(normalizeRed)\n",
        "  normGreen = Bands[1].point(normalizeGreen)\n",
        "  normBlue = Bands[2].point(normalizeBlue)\n",
        "  return Image.merge(\"RGB\", (normRed, normGreen, normBlue))"
      ],
      "execution_count": null,
      "outputs": []
    },
    {
      "cell_type": "markdown",
      "metadata": {
        "id": "PiU4ekx8BYco"
      },
      "source": [
        "# **C-Means Clustering:**"
      ]
    },
    {
      "cell_type": "code",
      "metadata": {
        "id": "pu431k2uyr5S"
      },
      "source": [
        "def C_Means(img):\n",
        "  h,w,m = np.shape(img)\n",
        "  seg_img = np.zeros((h,w,3),np.int8)\n",
        "  objmean=np.array([50,100,200])\n",
        "  bgmean=np.array([0,50,40])\n",
        "  temp_obj_mean = np.array([1,1,1])\n",
        "  temp_bg_mean = np.array([1,1,1])\n",
        "  iterations = 0\n",
        "\n",
        "\n",
        "  while(1):\n",
        "    BGred = list()\n",
        "    BGblue = list()\n",
        "    BGgreen = list()\n",
        "    Objred = list()\n",
        "    Objblue = list()\n",
        "    Objgreen = list()\n",
        "    for i in range(h):\n",
        "      for j in range(w):\n",
        "        I = np.array([img[i,j,0],img[i,j,1],img[i,j,2]])\n",
        "        if np.sqrt((I-objmean).dot(I-objmean)) < np.sqrt((I-bgmean).dot(I-bgmean)):\n",
        "          Objred.append(img[i,j,0])\n",
        "          Objblue.append(img[i,j,1])\n",
        "          Objgreen.append(img[i,j,2])\n",
        "\n",
        "        else:\n",
        "          BGred.append(img[i,j,0])\n",
        "          BGblue.append(img[i,j,1])\n",
        "          BGgreen.append(img[i,j,2])\n",
        "\n",
        "    iterations += 1\n",
        "    temp_obj_mean[0] = sum(Objred)/len(Objred)\n",
        "    temp_obj_mean[1] = sum(Objgreen)/len(Objgreen)\n",
        "    temp_obj_mean[2] = sum(Objblue)/len(Objblue)\n",
        "    temp_bg_mean[0] = sum(BGred)/len(BGred)\n",
        "    temp_bg_mean[1] = sum(BGgreen)/len(BGgreen)\n",
        "    temp_bg_mean[2] = sum(BGblue)/len(BGblue)\n",
        "    print(temp_obj_mean,'.............obj.............',objmean)\n",
        "    print(temp_bg_mean,'...............bg...........',bgmean)\n",
        "\n",
        "    if (temp_obj_mean[0] == objmean[0] and temp_obj_mean[1] == objmean[1] and temp_obj_mean[2] == objmean[2] and temp_bg_mean[0] == bgmean[0] and temp_bg_mean[1] == bgmean[1] and temp_bg_mean[2] == bgmean[2]  ):\n",
        "      \n",
        "      print(5)\n",
        "      break\n",
        "\n",
        "    else:\n",
        "      print(1)\n",
        "      objmean = np.copy(temp_obj_mean)\n",
        "      bgmean = np.copy(temp_bg_mean)\n",
        "\n",
        "    if iterations == 20:\n",
        "      break\n",
        "\n",
        "  for k in range(h):\n",
        "    for n in range(w):\n",
        "      I = np.array([img[k,n,0],img[k,n,1],img[k,n,2]])\n",
        "      if np.sqrt((I-objmean).dot(I-objmean)) < np.sqrt((I-bgmean).dot(I-bgmean)):\n",
        "        seg_img[k,n,0] = objmean[0]\n",
        "        seg_img[k,n,1] = objmean[1]\n",
        "        seg_img[k,n,2] = objmean[2]\n",
        "      else:\n",
        "        seg_img[k,n,0] = bgmean[0]\n",
        "        seg_img[k,n,1] = bgmean[1]\n",
        "        seg_img[k,n,2] = bgmean[2]\n",
        "\n",
        "  return seg_img\n",
        "\n"
      ],
      "execution_count": null,
      "outputs": []
    },
    {
      "cell_type": "markdown",
      "metadata": {
        "id": "cfQuTjHeWb30"
      },
      "source": [
        "# **Nearest Neighbor:**"
      ]
    },
    {
      "cell_type": "code",
      "metadata": {
        "id": "AW23c64VTXfC"
      },
      "source": [
        "def nearest_neighbor(image, obj_batch_orig, bg_batch_orig):\n",
        "\n",
        "    result = np.zeros((image.shape[0], image.shape[1]))\n",
        "    for i in range(image.shape[0]):\n",
        "        for j in range(image.shape[1]):\n",
        "            obj_batch = obj_batch_orig\n",
        "            bg_batch = bg_batch_orig\n",
        "            while True:\n",
        "                obj_diff = abs(image[i, j] - obj_batch)\n",
        "                bg_diff = abs(image[i, j] - bg_batch)\n",
        "\n",
        "                obj_diff_norm = np.linalg.norm(obj_diff, axis=-1)\n",
        "                bg_diff_norm = np.linalg.norm(bg_diff, axis=-1)\n",
        "\n",
        "                obj_min_diff = np.amin(obj_diff_norm)\n",
        "                bg_min_diff = np.amin(bg_diff_norm)\n",
        "\n",
        "                obj_min_index = np.argmin(obj_diff_norm)\n",
        "                bg_min_index = np.argmin(bg_diff_norm)\n",
        "\n",
        "                if obj_min_diff < bg_min_diff:\n",
        "                    result[i, j] = 0\n",
        "                    break\n",
        "                elif obj_min_diff > bg_min_diff:\n",
        "                    result[i, j] = 1\n",
        "                    break\n",
        "                else:\n",
        "                    obj_batch = np.delete(obj_batch, obj_min_index, 0)\n",
        "                    bg_batch = np.delete(bg_batch, bg_min_index, 0)\n",
        "\n",
        "    return result"
      ],
      "execution_count": null,
      "outputs": []
    },
    {
      "cell_type": "markdown",
      "metadata": {
        "id": "gVJziftQWh0w"
      },
      "source": [
        "# **K-Nearest Neighbor:**"
      ]
    },
    {
      "cell_type": "code",
      "metadata": {
        "id": "0OrlIQlsQHl1"
      },
      "source": [
        "def k_nearest_neighbor(image, K, obj_batch_orig, bg_batch_orig):\n",
        "\n",
        "    result = np.zeros((image.shape[0], image.shape[1]))\n",
        "\n",
        "    for i in range(image.shape[0]):\n",
        "        for j in range(image.shape[1]):\n",
        "            obj_counter = 0\n",
        "            bg_counter = 0\n",
        "            obj_batch = obj_batch_orig\n",
        "            bg_batch = bg_batch_orig\n",
        "            for k in range(K):\n",
        "                while True:\n",
        "                    obj_diff = abs(image[i, j] - obj_batch)\n",
        "                    bg_diff = abs(image[i, j] - bg_batch)\n",
        "\n",
        "                    obj_diff_norm = np.linalg.norm(obj_diff, axis=-1)\n",
        "                    bg_diff_norm = np.linalg.norm(bg_diff, axis=-1)\n",
        "\n",
        "                    obj_min_diff = np.amin(obj_diff_norm)\n",
        "                    bg_min_diff = np.amin(bg_diff_norm)\n",
        "\n",
        "                    obj_min_index = np.argmin(obj_diff_norm)\n",
        "                    bg_min_index = np.argmin(bg_diff_norm)\n",
        "\n",
        "                    if obj_min_diff < bg_min_diff:\n",
        "                        obj_counter += 1\n",
        "                        obj_batch = np.delete(obj_batch, obj_min_index, 0)\n",
        "                        break\n",
        "                    elif obj_min_diff > bg_min_diff:\n",
        "                        bg_counter += 1\n",
        "                        bg_batch = np.delete(bg_batch, bg_min_index, 0)\n",
        "                        break\n",
        "                    else:\n",
        "                        obj_batch = np.delete(obj_batch, obj_min_index, 0)\n",
        "                        bg_batch = np.delete(bg_batch, bg_min_index, 0)\n",
        "\n",
        "            if obj_counter > bg_counter:\n",
        "                result[i, j] = 0\n",
        "            else:\n",
        "                result[i, j] = 1\n",
        "\n",
        "    return result"
      ],
      "execution_count": null,
      "outputs": []
    },
    {
      "cell_type": "code",
      "metadata": {
        "id": "rWu7pw7mpqj2"
      },
      "source": [
        "def shuffle(features, labels):\n",
        "    permutation = list(np.random.permutation(features.shape[0]))\n",
        "    features_shuffled = features[permutation, :]\n",
        "    shuffled_labels = labels[permutation]\n",
        "\n",
        "    return features_shuffled, shuffled_labels"
      ],
      "execution_count": null,
      "outputs": []
    },
    {
      "cell_type": "code",
      "metadata": {
        "id": "gg8eXsqznX44"
      },
      "source": [
        "def get_areas(two_batches=False):\n",
        "\n",
        "    if two_batches:\n",
        "\n",
        "        x, y, w, h = np.array(cv2.selectROI(\"Image\", img, False))\n",
        "        obj_batch = img[y:y+h, x:x+w]\n",
        "        x, y, w, h = np.array(cv2.selectROI(\"Image\", img, False))\n",
        "        bg_batch = img[y:y+h, x:x+w]\n",
        "        x, y, w, h = np.array(cv2.selectROI(\"Image\", img, False))\n",
        "        obj_batch2 = img[y:y+h, x:x+w]\n",
        "        x, y, w, h = np.array(cv2.selectROI(\"Image\", img, False))\n",
        "        bg_batch2 = img[y:y+h, x:x+w]\n",
        "\n",
        "        obj_batch = np.reshape(obj_batch, (obj_batch.shape[0] * obj_batch.shape[1], 3))\n",
        "        bg_batch = np.reshape(bg_batch, (bg_batch.shape[0] * bg_batch.shape[1], 3))\n",
        "        obj_batch2 = np.reshape(obj_batch2, (obj_batch2.shape[0] * obj_batch2.shape[1], 3))\n",
        "        bg_batch2 = np.reshape(bg_batch2, (bg_batch2.shape[0] * bg_batch2.shape[1], 3))\n",
        "\n",
        "        obj = np.concatenate((obj_batch, obj_batch2), axis=0)\n",
        "        bg = np.concatenate((bg_batch, bg_batch2), axis=0)\n",
        "        features = np.concatenate((obj, bg), axis=0)\n",
        "\n",
        "        obj_labels = np.full(obj_batch.shape[0], 0)\n",
        "        bg_labels = np.full(bg_batch.shape[0], 1)\n",
        "        obj_labels2 = np.full(obj_batch2.shape[0], 0)\n",
        "        bg_labels2 = np.full(bg_batch2.shape[0], 1)\n",
        "        labels = np.concatenate((obj_labels, obj_labels2, bg_labels, bg_labels2))\n",
        "\n",
        "        features, labels = shuffle(features, labels)\n",
        "\n",
        "        return obj, bg, features, labels\n",
        "\n",
        "    else:\n",
        "        x, y, w, h = np.array(cv2.selectROI(\"Image\", img, False))\n",
        "        obj_batch = img[y:y+h, x:x+w]\n",
        "        x, y, w, h = np.array(cv2.selectROI(\"Image\", img, False))\n",
        "        bg_batch = img[y:y+h, x:x+w]\n",
        "\n",
        "        obj_batch = np.reshape(obj_batch, (obj_batch.shape[0] * obj_batch.shape[1], 3))\n",
        "        bg_batch = np.reshape(bg_batch, (bg_batch.shape[0] * bg_batch.shape[1], 3))\n",
        "\n",
        "        obj_labels = np.full(obj_batch.shape[0], 0)\n",
        "        bg_labels = np.full(bg_batch.shape[0], 1)\n",
        "\n",
        "        features = np.concatenate((obj_batch, bg_batch), axis=0)\n",
        "        labels = np.concatenate((obj_labels, bg_labels))\n",
        "\n",
        "        features, labels = shuffle(features, labels)\n",
        "\n",
        "        return obj_batch, bg_batch, features, labels"
      ],
      "execution_count": null,
      "outputs": []
    },
    {
      "cell_type": "code",
      "metadata": {
        "id": "wsMDqbMTp-e8"
      },
      "source": [
        "def get_points():\n",
        "    obj_batch = np.array([[img[226, 127]]\n",
        "                             , [img[149, 331]]\n",
        "                             , [img[188, 424]]\n",
        "                             , [img[192, 208]]\n",
        "                             , [img[167, 408]]\n",
        "                             , [img[101, 48]]\n",
        "                             , [img[81, 305]]\n",
        "                             , [img[203, 314]]\n",
        "                             , [img[141, 428]]\n",
        "                             , [img[100, 241]]])\n",
        "    obj_batch = obj_batch.reshape((obj_batch.shape[0], 3))\n",
        "\n",
        "    bg_batch = np.array([[img[35, 450]]\n",
        "                            , [img[150, 463]]\n",
        "                            , [img[309, 388]]\n",
        "                            , [img[195, 352]]\n",
        "                            , [img[306, 200]]\n",
        "                            , [img[178, 364]]\n",
        "                            , [img[310, 74]]\n",
        "                            , [img[244, 462]]\n",
        "                            , [img[296, 204]]])\n",
        "    bg_batch = bg_batch.reshape((bg_batch.shape[0], 3))\n",
        "\n",
        "    features = np.concatenate((obj_batch, bg_batch), axis=0)\n",
        "\n",
        "    obj_labels = np.full(obj_batch.shape[0], 0)\n",
        "    bg_labels = np.full(bg_batch.shape[0], 1)\n",
        "    labels = np.concatenate((obj_labels, bg_labels))\n",
        "\n",
        "    features, labels = shuffle(features, labels)\n",
        "\n",
        "    return obj_batch, bg_batch, features, labels"
      ],
      "execution_count": null,
      "outputs": []
    },
    {
      "cell_type": "markdown",
      "metadata": {
        "id": "TcqkDxhdGcp5"
      },
      "source": [
        "#**Support Vector Machine:**"
      ]
    },
    {
      "cell_type": "code",
      "metadata": {
        "id": "h8x7J5UNOHr8"
      },
      "source": [
        "def support_vector_machine(image, X, Y):\n",
        "    model = svm.SVC(kernel='linear')\n",
        "    model.fit(X, Y)\n",
        "    height, width = image.shape[0], image.shape[1]\n",
        "    for i in range(height):\n",
        "        for j in range(width):\n",
        "            pixel = np.reshape(image[i, j], (1, 3))\n",
        "            image[i, j] = model.predict(pixel)\n",
        "    return image"
      ],
      "execution_count": null,
      "outputs": []
    },
    {
      "cell_type": "markdown",
      "metadata": {
        "id": "mwTlLm_WGvS8"
      },
      "source": [
        "# **Bayes' Classification:**"
      ]
    },
    {
      "cell_type": "code",
      "metadata": {
        "id": "te82EH8lG1py"
      },
      "source": [
        "def Mean(batch):\n",
        "  x = np.array([np.mean(batch[:,:,0]),np.mean(batch[:,:,1]),np.mean(batch[:,:,2])])\n",
        "  return x\n",
        "\n",
        "def Cov(batch):\n",
        "  h,w,m = np.shape(batch)\n",
        "  mean = Mean(batch)\n",
        "  x = np.zeros((3,3), dtype=float)\n",
        "  for i in range(h):\n",
        "    for j in range(w):\n",
        "       x += np.matmul((batch[i][j] - mean).reshape(3,1),((batch[i][j]-mean).reshape(3,1)).transpose())\n",
        "  x = (1/(h*w))*x\n",
        "  return x\n",
        "\n",
        "def probability(pixel,batch,cov,mean):\n",
        "  c = np.asmatrix(cov)\n",
        "  m = mean\n",
        "  I = (pixel - m).reshape(3,1)\n",
        "  #print(I)\n",
        "  const = 1/(np.sqrt(2*3.14159)*(np.linalg.det(c))**1.5)\n",
        "  exp = np.exp(-0.5*(I.transpose()*np.linalg.inv(c)*I))\n",
        "  expp = exp[0,0]\n",
        "  return const*expp"
      ],
      "execution_count": null,
      "outputs": []
    },
    {
      "cell_type": "markdown",
      "metadata": {
        "id": "NW_AAB6b_yHg"
      },
      "source": [
        "# **Main**"
      ]
    },
    {
      "cell_type": "code",
      "metadata": {
        "id": "VeqXLsB-HST9"
      },
      "source": [
        "cov_obj = Cov(obj_b)\n",
        "cov_bg = Cov(bg_b)\n",
        "m_obj = Mean(obj_b)\n",
        "m_bg = Mean(bg_b)\n",
        "h,w,m = np.shape(img2)\n",
        "Seg_img_bayes = np.zeros((h,w),np.int8)"
      ],
      "execution_count": null,
      "outputs": []
    },
    {
      "cell_type": "code",
      "metadata": {
        "id": "tJ-egujVghPE"
      },
      "source": [
        "print(np.shape(img))\n",
        "imgn = normalizeImage(img_cluster)\n",
        "Img_arr= np.array(imgn)\n",
        "Seg_Img = C_Means(Img_arr)\n"
      ],
      "execution_count": null,
      "outputs": []
    },
    {
      "cell_type": "code",
      "metadata": {
        "id": "oSt-Nm-ThISO"
      },
      "source": [
        "Seg_Img = Image.fromarray((Seg_Img * 255).astype(np.uint8))\n",
        "plt.figure(figsize=(10,10))\n",
        "plt.imshow(Seg_Img)\n"
      ],
      "execution_count": null,
      "outputs": []
    },
    {
      "cell_type": "code",
      "metadata": {
        "id": "e89NYq1EOTbT"
      },
      "source": [
        "obj_batch, bg_batch, features, labels = get_areas(True)"
      ],
      "execution_count": null,
      "outputs": []
    },
    {
      "cell_type": "code",
      "metadata": {
        "id": "iUI89N0P9yVm"
      },
      "source": [
        "img = nearest_neighbor(img, obj_batch, bg_batch)\n",
        "plt.imshow(img)"
      ],
      "execution_count": null,
      "outputs": []
    },
    {
      "cell_type": "code",
      "metadata": {
        "id": "6az37vAFObYb"
      },
      "source": [
        "img = k_nearest_neighbor(img, 3, obj_batch, bg_batch)\n",
        "plt.imshow(img)"
      ],
      "execution_count": null,
      "outputs": []
    },
    {
      "cell_type": "code",
      "metadata": {
        "id": "x9LpqC_oOccK"
      },
      "source": [
        "img = support_vector_machine(img, features, labels)\n",
        "plt.imshow(img)"
      ],
      "execution_count": null,
      "outputs": []
    },
    {
      "cell_type": "code",
      "metadata": {
        "id": "Zr0OUuE112cs"
      },
      "source": [
        "for i in range(h):\n",
        "  for j in range(w):\n",
        "    if (0.77*(probability(img2[i][j],obj_b,cov_obj,m_obj))> 0.23*(probability(img2[i][j],bg_b,cov_bg,m_bg))):\n",
        "      Seg_img_bayes[i][j]=1\n",
        "    else:\n",
        "      Seg_img_bayes[i][j]=0\n",
        "\n",
        "plt.imshow(Seg_img_bayes)\n",
        "print(Seg_img_bayes)"
      ],
      "execution_count": null,
      "outputs": []
    },
    {
      "cell_type": "code",
      "metadata": {
        "id": "3QDNLNwcQq_X"
      },
      "source": [
        "from scipy import ndimage\n",
        "result = ndimage.median_filter(Seg_Img, size=3)\n",
        "\n",
        "plt.figure(figsize=(10,10))\n",
        "plt.imshow(result)"
      ],
      "execution_count": null,
      "outputs": []
    },
    {
      "cell_type": "code",
      "metadata": {
        "id": "RmbsCS57Q0l1"
      },
      "source": [
        ""
      ],
      "execution_count": null,
      "outputs": []
    }
  ]
}